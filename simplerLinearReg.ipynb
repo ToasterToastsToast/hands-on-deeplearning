{
 "cells": [
  {
   "cell_type": "markdown",
   "id": "b1e0af03",
   "metadata": {},
   "source": [
    "实际上，由于数据迭代器、损失函数、优化器和神经\n",
    "网络层很常用，现代深度学习库也为我们实现了这些组件。"
   ]
  },
  {
   "cell_type": "code",
   "execution_count": 8,
   "id": "c5a75513",
   "metadata": {},
   "outputs": [],
   "source": [
    "import numpy as np\n",
    "import torch\n",
    "from torch.utils import data\n",
    "from d2l import torch as d2l\n",
    "true_w = torch.tensor([2, -3.4])\n",
    "true_b = 4.2\n",
    "features, labels = d2l.synthetic_data(true_w, true_b, 1000)"
   ]
  },
  {
   "cell_type": "markdown",
   "id": "937509c1",
   "metadata": {},
   "source": [
    "# 读取数据集\n",
    "我们可以调用框架中现有的API来读取数据。我们将features和labels作为API的参数传递，并通过数据迭代\n",
    "器指定batch_size。此外，布尔值is_train表示是否希望数据迭代器对象在每个迭代周期内**打乱数据。**"
   ]
  },
  {
   "cell_type": "code",
   "execution_count": 9,
   "id": "6c9cced7",
   "metadata": {},
   "outputs": [],
   "source": [
    "def load_array(data_arrays,batch_size,is_train=True):\n",
    "    dataset=data.TensorDataset(*data_arrays)\n",
    "    return data.DataLoader(dataset,batch_size,shuffle=is_train)"
   ]
  },
  {
   "cell_type": "code",
   "execution_count": 10,
   "id": "acb5b31a",
   "metadata": {},
   "outputs": [],
   "source": [
    "batch_size = 10\n",
    "data_iter = load_array((features, labels), batch_size)"
   ]
  },
  {
   "cell_type": "markdown",
   "id": "b80c0dd8",
   "metadata": {},
   "source": [
    "这里我们使用iter构造Python迭代器，并使用next从迭代器中\n",
    "获取第一项。"
   ]
  },
  {
   "cell_type": "code",
   "execution_count": 11,
   "id": "cc431b4e",
   "metadata": {},
   "outputs": [
    {
     "data": {
      "text/plain": [
       "[tensor([[ 0.6975, -1.0601],\n",
       "         [-0.2406, -0.5462],\n",
       "         [-0.3236, -0.1990],\n",
       "         [-0.8702,  0.0569],\n",
       "         [ 0.6442,  0.9101],\n",
       "         [ 0.3408, -1.3537],\n",
       "         [ 0.1726, -0.4811],\n",
       "         [ 0.4161, -0.5795],\n",
       "         [ 0.3426, -1.4198],\n",
       "         [-0.5584,  0.3639]]),\n",
       " tensor([[9.1922],\n",
       "         [5.5849],\n",
       "         [4.2310],\n",
       "         [2.2601],\n",
       "         [2.3902],\n",
       "         [9.4973],\n",
       "         [6.2089],\n",
       "         [7.0088],\n",
       "         [9.7071],\n",
       "         [1.8277]])]"
      ]
     },
     "execution_count": 11,
     "metadata": {},
     "output_type": "execute_result"
    }
   ],
   "source": [
    "next(iter(data_iter))"
   ]
  },
  {
   "cell_type": "markdown",
   "id": "1a40548e",
   "metadata": {},
   "source": [
    "# 定义模型\n",
    "\n",
    "对于标准深度学习模型，我们可以使用框架的预定义好的层。这使我们只需关注使用哪些层来构造模型，而不必关注层的实现细节。\n",
    "\n",
    "我们首先定义一个模型变量net，它是一个Sequential类的实例。Sequential类 **将多个层串联在一起。** 当给定输入数据时，Sequential实例将数据传入到第一层，然后将第一层的输出作为第二层的输入，以此类推。\n",
    "\n",
    "(在下面的例子中，我们的模型只包含一个层，因此实际上不需要Sequential。)这一单层被称为全连接层（fully‐connected layer），因为它的每一个输入都通过矩阵‐向量乘法得到它的每个输出。\n",
    "\n",
    "在PyTorch中，***全连接层在Linear类中定义。***\n",
    "\n",
    "我们将两个参数传递到nn.Linear中。第一个指定**输入特征形状**，即2，第二个指定**输出**特征形状，输出特征形状为单个标量，因此为1。"
   ]
  },
  {
   "cell_type": "code",
   "execution_count": 12,
   "id": "b0d8c690",
   "metadata": {},
   "outputs": [],
   "source": [
    "# nn是神经网络的缩写\n",
    "from torch import nn\n",
    "net = nn.Sequential(nn.Linear(2, 1))"
   ]
  },
  {
   "cell_type": "markdown",
   "id": "422ca8af",
   "metadata": {},
   "source": [
    "# 初始化参数\n",
    "我们指定每个权重参数应该从均值为0、标准差为0.01的正态分布中随机采\n",
    "样，偏置参数将初始化为零。\n",
    "\n",
    "正如我们在构造nn.Linear时指定输入和输出尺寸一样，现在我们能直接访问参数以设定它们的初始值。我\n",
    "们通过net[0]选择网络中的第一个图层，然后使用weight.data和bias.data方法访问参数。我们还可以使用\n",
    "替换方法normal_和fill_来重写参数值。"
   ]
  },
  {
   "cell_type": "code",
   "execution_count": 13,
   "id": "912a576e",
   "metadata": {},
   "outputs": [
    {
     "data": {
      "text/plain": [
       "tensor([0.])"
      ]
     },
     "execution_count": 13,
     "metadata": {},
     "output_type": "execute_result"
    }
   ],
   "source": [
    "net[0].weight.data.normal_(0, 0.01)\n",
    "net[0].bias.data.fill_(0)"
   ]
  },
  {
   "cell_type": "markdown",
   "id": "e5337c37",
   "metadata": {},
   "source": [
    "# 定义损失函数和优化算法"
   ]
  },
  {
   "cell_type": "code",
   "execution_count": 14,
   "id": "7eeb7c03",
   "metadata": {},
   "outputs": [],
   "source": [
    "loss = nn.MSELoss()\n",
    "trainer = torch.optim.SGD(net.parameters(), lr=0.03)"
   ]
  },
  {
   "cell_type": "markdown",
   "id": "9da70daa",
   "metadata": {},
   "source": [
    "# 训练\n",
    "回顾一下：在每个迭代周期里，我们将完整遍历一次数据集（train_data），不停地从中获取一个小批量的输\n",
    "入和相应的标签。对于每一个小批量，我们会进行以下步骤:\n",
    "\n",
    "• 通过调用net(X)生成预测并计算损失l（前向传播）。\n",
    "\n",
    "• 通过进行反向传播来计算梯度。\n",
    "\n",
    "• 通过调用优化器来更新模型参数。\n",
    "\n",
    "为了更好的衡量训练效果，我们计算每个迭代周期后的损失，并打印它来监控训练过程。"
   ]
  },
  {
   "cell_type": "code",
   "execution_count": 15,
   "id": "9468001b",
   "metadata": {},
   "outputs": [
    {
     "name": "stdout",
     "output_type": "stream",
     "text": [
      "epoch 1, loss 0.000301\n",
      "epoch 2, loss 0.000098\n",
      "epoch 3, loss 0.000099\n"
     ]
    }
   ],
   "source": [
    "num_epochs = 3\n",
    "for epoch in range(num_epochs):\n",
    "    for X, y in data_iter:\n",
    "        l = loss(net(X) ,y)\n",
    "        trainer.zero_grad()\n",
    "        l.backward()\n",
    "        trainer.step()\n",
    "    l = loss(net(features), labels)\n",
    "    print(f'epoch {epoch + 1}, loss {l:f}')"
   ]
  },
  {
   "cell_type": "code",
   "execution_count": 16,
   "id": "0c3d780a",
   "metadata": {},
   "outputs": [
    {
     "name": "stdout",
     "output_type": "stream",
     "text": [
      "w的估计误差： tensor([6.1977e-04, 9.4891e-05])\n",
      "b的估计误差： tensor([0.0011])\n"
     ]
    }
   ],
   "source": [
    "w = net[0].weight.data\n",
    "print('w的估计误差：', true_w - w.reshape(true_w.shape))\n",
    "b = net[0].bias.data\n",
    "print('b的估计误差：', true_b - b)"
   ]
  }
 ],
 "metadata": {
  "kernelspec": {
   "display_name": "d21",
   "language": "python",
   "name": "python3"
  },
  "language_info": {
   "codemirror_mode": {
    "name": "ipython",
    "version": 3
   },
   "file_extension": ".py",
   "mimetype": "text/x-python",
   "name": "python",
   "nbconvert_exporter": "python",
   "pygments_lexer": "ipython3",
   "version": "3.9.23"
  }
 },
 "nbformat": 4,
 "nbformat_minor": 5
}
